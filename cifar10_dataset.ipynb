{
  "nbformat": 4,
  "nbformat_minor": 0,
  "metadata": {
    "colab": {
      "name": "cifar10_dataset.ipynb",
      "provenance": [],
      "collapsed_sections": [],
      "authorship_tag": "ABX9TyO814pBek6R1ME1Zv9LeK2H",
      "include_colab_link": true
    },
    "kernelspec": {
      "name": "python3",
      "display_name": "Python 3"
    },
    "language_info": {
      "name": "python"
    }
  },
  "cells": [
    {
      "cell_type": "markdown",
      "metadata": {
        "id": "view-in-github",
        "colab_type": "text"
      },
      "source": [
        "<a href=\"https://colab.research.google.com/github/aashish-chaubey/ds_fundamentals/blob/main/cifar10_dataset.ipynb\" target=\"_parent\"><img src=\"https://colab.research.google.com/assets/colab-badge.svg\" alt=\"Open In Colab\"/></a>"
      ]
    },
    {
      "cell_type": "code",
      "metadata": {
        "id": "7bZUo7VAFO-6"
      },
      "source": [
        "import tensorflow as tf\n",
        "from tensorflow.keras.datasets import cifar10\n",
        "import numpy as np\n",
        "import pandas as pd\n",
        "import matplotlib.pyplot as plt\n",
        "import seaborn as sns\n",
        "import warnings\n",
        "warnings.filterwarnings('ignore')"
      ],
      "execution_count": 26,
      "outputs": []
    },
    {
      "cell_type": "code",
      "metadata": {
        "id": "gLUdSnewFwkT"
      },
      "source": [
        "(X_train, y_train), (X_test, y_test) = cifar10.load_data()"
      ],
      "execution_count": 27,
      "outputs": []
    },
    {
      "cell_type": "code",
      "metadata": {
        "colab": {
          "base_uri": "https://localhost:8080/"
        },
        "id": "53bdem-SGQ1I",
        "outputId": "02a2bd80-a5b3-442d-f1f1-186c0d9883fb"
      },
      "source": [
        "X_train.shape, y_train.shape"
      ],
      "execution_count": 43,
      "outputs": [
        {
          "output_type": "execute_result",
          "data": {
            "text/plain": [
              "((50000, 32, 32, 3), (50000,))"
            ]
          },
          "metadata": {
            "tags": []
          },
          "execution_count": 43
        }
      ]
    },
    {
      "cell_type": "code",
      "metadata": {
        "colab": {
          "base_uri": "https://localhost:8080/"
        },
        "id": "3fTcTlmqHxGy",
        "outputId": "df8739dd-634c-4342-a39e-c83dfb26f7e5"
      },
      "source": [
        "X_test.shape, y_test.shape"
      ],
      "execution_count": 5,
      "outputs": [
        {
          "output_type": "execute_result",
          "data": {
            "text/plain": [
              "((10000, 32, 32, 3), (10000, 1))"
            ]
          },
          "metadata": {
            "tags": []
          },
          "execution_count": 5
        }
      ]
    },
    {
      "cell_type": "code",
      "metadata": {
        "id": "bWIeIOaOhTzA"
      },
      "source": [
        "y_train = y_train.reshape(-1)"
      ],
      "execution_count": 41,
      "outputs": []
    },
    {
      "cell_type": "code",
      "metadata": {
        "id": "4XLOeb9sM5EF"
      },
      "source": [
        "X_train, X_test = X_train/255, X_test/255"
      ],
      "execution_count": 37,
      "outputs": []
    },
    {
      "cell_type": "code",
      "metadata": {
        "id": "smWDLEYJZA5P"
      },
      "source": [
        "model = tf.keras.Sequential()\n",
        "model.add(tf.keras.layers.Flatten(input_shape=(32,32,3)))\n",
        "model.add(tf.keras.layers.Dense(3000, activation='relu'))\n",
        "model.add(tf.keras.layers.Dense(1000, activation='relu'))\n",
        "model.add(tf.keras.layers.Dense(10, activation='softmax'))\n",
        "\n",
        "model.compile(\n",
        "  loss='sparse_categorical_crossentropy', \n",
        "  optimizer='Adam', \n",
        "  metrics=['accuracy']\n",
        ")"
      ],
      "execution_count": 44,
      "outputs": []
    },
    {
      "cell_type": "code",
      "metadata": {
        "colab": {
          "base_uri": "https://localhost:8080/"
        },
        "id": "nP9aY5OVguaa",
        "outputId": "8b517dfa-0bfc-4e6b-831b-4f55e97a797a"
      },
      "source": [
        "model.fit(X_train, y_train, batch_size=32, epochs=10)"
      ],
      "execution_count": 45,
      "outputs": [
        {
          "output_type": "stream",
          "text": [
            "Epoch 1/10\n",
            "1563/1563 [==============================] - 137s 87ms/step - loss: 1.8772 - accuracy: 0.3253\n",
            "Epoch 2/10\n",
            "1563/1563 [==============================] - 135s 87ms/step - loss: 1.6718 - accuracy: 0.3972\n",
            "Epoch 3/10\n",
            "1563/1563 [==============================] - 137s 88ms/step - loss: 1.5781 - accuracy: 0.4332\n",
            "Epoch 4/10\n",
            "1563/1563 [==============================] - 135s 86ms/step - loss: 1.5322 - accuracy: 0.4516\n",
            "Epoch 5/10\n",
            "1563/1563 [==============================] - 137s 87ms/step - loss: 1.4911 - accuracy: 0.4627\n",
            "Epoch 6/10\n",
            "1563/1563 [==============================] - 137s 88ms/step - loss: 1.4624 - accuracy: 0.4760\n",
            "Epoch 7/10\n",
            "1563/1563 [==============================] - 136s 87ms/step - loss: 1.4335 - accuracy: 0.4864\n",
            "Epoch 8/10\n",
            "1563/1563 [==============================] - 137s 88ms/step - loss: 1.4095 - accuracy: 0.4945\n",
            "Epoch 9/10\n",
            "1563/1563 [==============================] - 138s 88ms/step - loss: 1.3860 - accuracy: 0.5011\n",
            "Epoch 10/10\n",
            "1563/1563 [==============================] - 137s 88ms/step - loss: 1.3688 - accuracy: 0.5098\n"
          ],
          "name": "stdout"
        },
        {
          "output_type": "execute_result",
          "data": {
            "text/plain": [
              "<tensorflow.python.keras.callbacks.History at 0x7f80cb176950>"
            ]
          },
          "metadata": {
            "tags": []
          },
          "execution_count": 45
        }
      ]
    },
    {
      "cell_type": "code",
      "metadata": {
        "id": "R0qJJe9Wg-O_"
      },
      "source": [
        "from sklearn.metrics import classification_report, confusion_matrix"
      ],
      "execution_count": 46,
      "outputs": []
    },
    {
      "cell_type": "code",
      "metadata": {
        "id": "s_h8srJJsgdb"
      },
      "source": [
        "y_pred = model.predict(X_test)\n",
        "y_pred = tf.argmax(y_pred, axis=1).numpy()"
      ],
      "execution_count": 61,
      "outputs": []
    },
    {
      "cell_type": "code",
      "metadata": {
        "id": "zw6X9E7csZKv"
      },
      "source": [
        "report = classification_report(y_test, y_pred)"
      ],
      "execution_count": 64,
      "outputs": []
    },
    {
      "cell_type": "code",
      "metadata": {
        "colab": {
          "base_uri": "https://localhost:8080/",
          "height": 103
        },
        "id": "5B7SWAzasqxW",
        "outputId": "5c45ef6b-fb67-4e9e-eeca-915061a0e627"
      },
      "source": [
        "report"
      ],
      "execution_count": 67,
      "outputs": [
        {
          "output_type": "execute_result",
          "data": {
            "application/vnd.google.colaboratory.intrinsic+json": {
              "type": "string"
            },
            "text/plain": [
              "'              precision    recall  f1-score   support\\n\\n           0       0.55      0.56      0.56      1000\\n           1       0.62      0.58      0.60      1000\\n           2       0.34      0.42      0.38      1000\\n           3       0.37      0.25      0.30      1000\\n           4       0.38      0.43      0.41      1000\\n           5       0.46      0.33      0.39      1000\\n           6       0.51      0.56      0.53      1000\\n           7       0.61      0.47      0.53      1000\\n           8       0.52      0.72      0.61      1000\\n           9       0.54      0.55      0.55      1000\\n\\n    accuracy                           0.49     10000\\n   macro avg       0.49      0.49      0.48     10000\\nweighted avg       0.49      0.49      0.48     10000\\n'"
            ]
          },
          "metadata": {
            "tags": []
          },
          "execution_count": 67
        }
      ]
    },
    {
      "cell_type": "code",
      "metadata": {
        "id": "H0xpQmubt8RA"
      },
      "source": [
        "cnn_model = tf.keras.Sequential()\n",
        "cnn_model.add(tf.keras.layers.Conv2D(filters=32, kernel_size=(3, 3), activation='relu', input_shape=(32,32,3)))\n",
        "cnn_model.add(tf.keras.layers.MaxPooling2D())\n",
        "cnn_model.add(tf.keras.layers.Conv2D(filters=32, kernel_size=(3, 3), activation='relu'))\n",
        "cnn_model.add(tf.keras.layers.MaxPooling2D())\n",
        "cnn_model.add(tf.keras.layers.Flatten())\n",
        "cnn_model.add(tf.keras.layers.Dense(64, activation='relu'))\n",
        "cnn_model.add(tf.keras.layers.Dense(10, activation='softmax'))"
      ],
      "execution_count": 77,
      "outputs": []
    },
    {
      "cell_type": "code",
      "metadata": {
        "id": "IT2NhUAO2IGL"
      },
      "source": [
        "cnn_model.compile(\n",
        "    loss='sparse_categorical_crossentropy',\n",
        "    optimizer='adam',\n",
        "    metrics=['accuracy']\n",
        ")"
      ],
      "execution_count": 78,
      "outputs": []
    },
    {
      "cell_type": "code",
      "metadata": {
        "colab": {
          "base_uri": "https://localhost:8080/"
        },
        "id": "PtOKcSfx2XqF",
        "outputId": "39082f83-fb22-48e2-8512-90c5308cea30"
      },
      "source": [
        "cnn_model.fit(X_train, y_train, epochs=10)"
      ],
      "execution_count": 79,
      "outputs": [
        {
          "output_type": "stream",
          "text": [
            "Epoch 1/10\n",
            "1563/1563 [==============================] - 51s 32ms/step - loss: 1.5416 - accuracy: 0.4450\n",
            "Epoch 2/10\n",
            "1563/1563 [==============================] - 50s 32ms/step - loss: 1.2229 - accuracy: 0.5677\n",
            "Epoch 3/10\n",
            "1563/1563 [==============================] - 50s 32ms/step - loss: 1.0857 - accuracy: 0.6211\n",
            "Epoch 4/10\n",
            "1563/1563 [==============================] - 50s 32ms/step - loss: 1.0004 - accuracy: 0.6489\n",
            "Epoch 5/10\n",
            "1563/1563 [==============================] - 50s 32ms/step - loss: 0.9391 - accuracy: 0.6716\n",
            "Epoch 6/10\n",
            "1563/1563 [==============================] - 50s 32ms/step - loss: 0.8884 - accuracy: 0.6896\n",
            "Epoch 7/10\n",
            "1563/1563 [==============================] - 50s 32ms/step - loss: 0.8370 - accuracy: 0.7073\n",
            "Epoch 8/10\n",
            "1563/1563 [==============================] - 50s 32ms/step - loss: 0.7991 - accuracy: 0.7186\n",
            "Epoch 9/10\n",
            "1563/1563 [==============================] - 50s 32ms/step - loss: 0.7658 - accuracy: 0.7328\n",
            "Epoch 10/10\n",
            "1563/1563 [==============================] - 50s 32ms/step - loss: 0.7373 - accuracy: 0.7402\n"
          ],
          "name": "stdout"
        },
        {
          "output_type": "execute_result",
          "data": {
            "text/plain": [
              "<tensorflow.python.keras.callbacks.History at 0x7f80c55cea90>"
            ]
          },
          "metadata": {
            "tags": []
          },
          "execution_count": 79
        }
      ]
    },
    {
      "cell_type": "code",
      "metadata": {
        "colab": {
          "base_uri": "https://localhost:8080/"
        },
        "id": "VvOsuZ962vG1",
        "outputId": "272f7ddd-d802-4b1b-8848-985bab5b26b1"
      },
      "source": [
        "cnn_model.evaluate(X_test, y_test)"
      ],
      "execution_count": 80,
      "outputs": [
        {
          "output_type": "stream",
          "text": [
            "313/313 [==============================] - 3s 9ms/step - loss: 0.9333 - accuracy: 0.6784\n"
          ],
          "name": "stdout"
        },
        {
          "output_type": "execute_result",
          "data": {
            "text/plain": [
              "[0.9333191514015198, 0.6783999800682068]"
            ]
          },
          "metadata": {
            "tags": []
          },
          "execution_count": 80
        }
      ]
    },
    {
      "cell_type": "code",
      "metadata": {
        "id": "-YN86THG5QvC"
      },
      "source": [
        "y_pred = cnn_model.predict(X_test)\n",
        "y_pred = tf.argmax(y_pred, axis=1).numpy()"
      ],
      "execution_count": 91,
      "outputs": []
    },
    {
      "cell_type": "code",
      "metadata": {
        "colab": {
          "base_uri": "https://localhost:8080/",
          "height": 103
        },
        "id": "E_Ef6WPGEzbM",
        "outputId": "9216215a-a0ed-4681-f809-2a6f7c7ab392"
      },
      "source": [
        "cnn_report = classification_report(y_test, y_pred)\n",
        "cnn_report"
      ],
      "execution_count": 93,
      "outputs": [
        {
          "output_type": "execute_result",
          "data": {
            "application/vnd.google.colaboratory.intrinsic+json": {
              "type": "string"
            },
            "text/plain": [
              "'              precision    recall  f1-score   support\\n\\n           0       0.73      0.71      0.72      1000\\n           1       0.84      0.75      0.79      1000\\n           2       0.57      0.58      0.57      1000\\n           3       0.48      0.54      0.50      1000\\n           4       0.70      0.46      0.56      1000\\n           5       0.58      0.59      0.59      1000\\n           6       0.69      0.81      0.75      1000\\n           7       0.74      0.75      0.75      1000\\n           8       0.81      0.78      0.79      1000\\n           9       0.71      0.82      0.76      1000\\n\\n    accuracy                           0.68     10000\\n   macro avg       0.68      0.68      0.68     10000\\nweighted avg       0.68      0.68      0.68     10000\\n'"
            ]
          },
          "metadata": {
            "tags": []
          },
          "execution_count": 93
        }
      ]
    },
    {
      "cell_type": "code",
      "metadata": {
        "colab": {
          "base_uri": "https://localhost:8080/"
        },
        "id": "STy9jG6BE_L9",
        "outputId": "d130418a-0c65-4db9-f864-588dcf32ddce"
      },
      "source": [
        "y_test.shape, y_pred.shape"
      ],
      "execution_count": 92,
      "outputs": [
        {
          "output_type": "execute_result",
          "data": {
            "text/plain": [
              "((10000, 1), (10000,))"
            ]
          },
          "metadata": {
            "tags": []
          },
          "execution_count": 92
        }
      ]
    },
    {
      "cell_type": "code",
      "metadata": {
        "id": "tQYbSBV6FD0c"
      },
      "source": [
        ""
      ],
      "execution_count": null,
      "outputs": []
    }
  ]
}