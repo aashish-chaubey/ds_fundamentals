{
  "nbformat": 4,
  "nbformat_minor": 0,
  "metadata": {
    "colab": {
      "name": "Titanic.ipynb",
      "provenance": [],
      "collapsed_sections": [],
      "toc_visible": true,
      "authorship_tag": "ABX9TyNhI7r22Tmj+ZQay0Vd6xh9",
      "include_colab_link": true
    },
    "kernelspec": {
      "name": "python3",
      "display_name": "Python 3"
    },
    "language_info": {
      "name": "python"
    }
  },
  "cells": [
    {
      "cell_type": "markdown",
      "metadata": {
        "id": "view-in-github",
        "colab_type": "text"
      },
      "source": [
        "<a href=\"https://colab.research.google.com/github/aashish-chaubey/ds_fundamentals/blob/main/Titanic.ipynb\" target=\"_parent\"><img src=\"https://colab.research.google.com/assets/colab-badge.svg\" alt=\"Open In Colab\"/></a>"
      ]
    },
    {
      "cell_type": "code",
      "metadata": {
        "id": "qiaF92-IsxK8"
      },
      "source": [
        "import pandas as pd\n",
        "import numpy as np\n",
        "from sklearn.model_selection import train_test_split\n",
        "import matplotlib.pyplot as plt"
      ],
      "execution_count": 145,
      "outputs": []
    },
    {
      "cell_type": "code",
      "metadata": {
        "id": "Q1l6MeZ2s7up"
      },
      "source": [
        "data = '/content/train.csv'\n",
        "test = '/content/test.csv'"
      ],
      "execution_count": 146,
      "outputs": []
    },
    {
      "cell_type": "code",
      "metadata": {
        "colab": {
          "base_uri": "https://localhost:8080/",
          "height": 204
        },
        "id": "ewPHprWPs9iv",
        "outputId": "436dab91-fd48-4065-f1e7-70a70fc56328"
      },
      "source": [
        "df = pd.read_csv(filepath_or_buffer=data)\n",
        "test_df = pd.read_csv(filepath_or_buffer=test)\n",
        "df.head()"
      ],
      "execution_count": 147,
      "outputs": [
        {
          "output_type": "execute_result",
          "data": {
            "text/html": [
              "<div>\n",
              "<style scoped>\n",
              "    .dataframe tbody tr th:only-of-type {\n",
              "        vertical-align: middle;\n",
              "    }\n",
              "\n",
              "    .dataframe tbody tr th {\n",
              "        vertical-align: top;\n",
              "    }\n",
              "\n",
              "    .dataframe thead th {\n",
              "        text-align: right;\n",
              "    }\n",
              "</style>\n",
              "<table border=\"1\" class=\"dataframe\">\n",
              "  <thead>\n",
              "    <tr style=\"text-align: right;\">\n",
              "      <th></th>\n",
              "      <th>PassengerId</th>\n",
              "      <th>Survived</th>\n",
              "      <th>Pclass</th>\n",
              "      <th>Name</th>\n",
              "      <th>Sex</th>\n",
              "      <th>Age</th>\n",
              "      <th>SibSp</th>\n",
              "      <th>Parch</th>\n",
              "      <th>Ticket</th>\n",
              "      <th>Fare</th>\n",
              "      <th>Cabin</th>\n",
              "      <th>Embarked</th>\n",
              "    </tr>\n",
              "  </thead>\n",
              "  <tbody>\n",
              "    <tr>\n",
              "      <th>0</th>\n",
              "      <td>1</td>\n",
              "      <td>0</td>\n",
              "      <td>3</td>\n",
              "      <td>Braund, Mr. Owen Harris</td>\n",
              "      <td>male</td>\n",
              "      <td>22.0</td>\n",
              "      <td>1</td>\n",
              "      <td>0</td>\n",
              "      <td>A/5 21171</td>\n",
              "      <td>7.2500</td>\n",
              "      <td>NaN</td>\n",
              "      <td>S</td>\n",
              "    </tr>\n",
              "    <tr>\n",
              "      <th>1</th>\n",
              "      <td>2</td>\n",
              "      <td>1</td>\n",
              "      <td>1</td>\n",
              "      <td>Cumings, Mrs. John Bradley (Florence Briggs Th...</td>\n",
              "      <td>female</td>\n",
              "      <td>38.0</td>\n",
              "      <td>1</td>\n",
              "      <td>0</td>\n",
              "      <td>PC 17599</td>\n",
              "      <td>71.2833</td>\n",
              "      <td>C85</td>\n",
              "      <td>C</td>\n",
              "    </tr>\n",
              "    <tr>\n",
              "      <th>2</th>\n",
              "      <td>3</td>\n",
              "      <td>1</td>\n",
              "      <td>3</td>\n",
              "      <td>Heikkinen, Miss. Laina</td>\n",
              "      <td>female</td>\n",
              "      <td>26.0</td>\n",
              "      <td>0</td>\n",
              "      <td>0</td>\n",
              "      <td>STON/O2. 3101282</td>\n",
              "      <td>7.9250</td>\n",
              "      <td>NaN</td>\n",
              "      <td>S</td>\n",
              "    </tr>\n",
              "    <tr>\n",
              "      <th>3</th>\n",
              "      <td>4</td>\n",
              "      <td>1</td>\n",
              "      <td>1</td>\n",
              "      <td>Futrelle, Mrs. Jacques Heath (Lily May Peel)</td>\n",
              "      <td>female</td>\n",
              "      <td>35.0</td>\n",
              "      <td>1</td>\n",
              "      <td>0</td>\n",
              "      <td>113803</td>\n",
              "      <td>53.1000</td>\n",
              "      <td>C123</td>\n",
              "      <td>S</td>\n",
              "    </tr>\n",
              "    <tr>\n",
              "      <th>4</th>\n",
              "      <td>5</td>\n",
              "      <td>0</td>\n",
              "      <td>3</td>\n",
              "      <td>Allen, Mr. William Henry</td>\n",
              "      <td>male</td>\n",
              "      <td>35.0</td>\n",
              "      <td>0</td>\n",
              "      <td>0</td>\n",
              "      <td>373450</td>\n",
              "      <td>8.0500</td>\n",
              "      <td>NaN</td>\n",
              "      <td>S</td>\n",
              "    </tr>\n",
              "  </tbody>\n",
              "</table>\n",
              "</div>"
            ],
            "text/plain": [
              "   PassengerId  Survived  Pclass  ...     Fare Cabin  Embarked\n",
              "0            1         0       3  ...   7.2500   NaN         S\n",
              "1            2         1       1  ...  71.2833   C85         C\n",
              "2            3         1       3  ...   7.9250   NaN         S\n",
              "3            4         1       1  ...  53.1000  C123         S\n",
              "4            5         0       3  ...   8.0500   NaN         S\n",
              "\n",
              "[5 rows x 12 columns]"
            ]
          },
          "metadata": {
            "tags": []
          },
          "execution_count": 147
        }
      ]
    },
    {
      "cell_type": "code",
      "metadata": {
        "colab": {
          "base_uri": "https://localhost:8080/"
        },
        "id": "TQvibmUXtGuK",
        "outputId": "a55f0221-cab2-4f06-f9ca-d492975cc083"
      },
      "source": [
        "df.info()"
      ],
      "execution_count": 148,
      "outputs": [
        {
          "output_type": "stream",
          "text": [
            "<class 'pandas.core.frame.DataFrame'>\n",
            "RangeIndex: 891 entries, 0 to 890\n",
            "Data columns (total 12 columns):\n",
            " #   Column       Non-Null Count  Dtype  \n",
            "---  ------       --------------  -----  \n",
            " 0   PassengerId  891 non-null    int64  \n",
            " 1   Survived     891 non-null    int64  \n",
            " 2   Pclass       891 non-null    int64  \n",
            " 3   Name         891 non-null    object \n",
            " 4   Sex          891 non-null    object \n",
            " 5   Age          714 non-null    float64\n",
            " 6   SibSp        891 non-null    int64  \n",
            " 7   Parch        891 non-null    int64  \n",
            " 8   Ticket       891 non-null    object \n",
            " 9   Fare         891 non-null    float64\n",
            " 10  Cabin        204 non-null    object \n",
            " 11  Embarked     889 non-null    object \n",
            "dtypes: float64(2), int64(5), object(5)\n",
            "memory usage: 83.7+ KB\n"
          ],
          "name": "stdout"
        }
      ]
    },
    {
      "cell_type": "code",
      "metadata": {
        "id": "KUL3YMHPtNlS"
      },
      "source": [
        "df[['Survived', 'Pclass']] = df[['Survived', 'Pclass']].astype('object')\n",
        "test_df[['Pclass']] = test_df[['Pclass']].astype('object')"
      ],
      "execution_count": 149,
      "outputs": []
    },
    {
      "cell_type": "code",
      "metadata": {
        "id": "QXOS_QLZuQJL"
      },
      "source": [
        "mapper = {1: 'Upper', 2: 'Middle', 3: 'Lower'}\n",
        "df['Pclass'] = df['Pclass'].replace(mapper)\n",
        "test_df['Pclass'] = test_df['Pclass'].replace(mapper)"
      ],
      "execution_count": 150,
      "outputs": []
    },
    {
      "cell_type": "code",
      "metadata": {
        "id": "LRzGXNJVvtZA"
      },
      "source": [
        "df = pd.concat([df.drop('Sex', axis=1), pd.get_dummies(df['Sex'])], axis=1)\n",
        "test_df = pd.concat([test_df.drop('Sex', axis=1), pd.get_dummies(test_df['Sex'])], axis=1)"
      ],
      "execution_count": 151,
      "outputs": []
    },
    {
      "cell_type": "code",
      "metadata": {
        "id": "K4wP01c30yx_"
      },
      "source": [
        "df = pd.concat([df.drop('Pclass', axis=1), pd.get_dummies(df['Pclass'])], axis=1)\n",
        "test_df = pd.concat([test_df.drop('Pclass', axis=1), pd.get_dummies(test_df['Pclass'])], axis=1)"
      ],
      "execution_count": 152,
      "outputs": []
    },
    {
      "cell_type": "code",
      "metadata": {
        "id": "a6tgzwmpz0xC"
      },
      "source": [
        "x = df[(df['Upper'] == 1) & (df['Embarked'] == 'C')]"
      ],
      "execution_count": 153,
      "outputs": []
    },
    {
      "cell_type": "code",
      "metadata": {
        "colab": {
          "base_uri": "https://localhost:8080/",
          "height": 279
        },
        "id": "6i0n6Br50q3L",
        "outputId": "c15f9438-0a25-47db-fc18-bca5fb157c90"
      },
      "source": [
        "plt.hist(x['Fare'])\n",
        "plt.xlabel(\"Fare\")\n",
        "plt.ylabel(\"Count\")\n",
        "plt.show()"
      ],
      "execution_count": 17,
      "outputs": [
        {
          "output_type": "display_data",
          "data": {
            "image/png": "[encoded data removed]",
            "text/plain": [
              "<Figure size 432x288 with 1 Axes>"
            ]
          },
          "metadata": {
            "tags": [],
            "needs_background": "light"
          }
        }
      ]
    },
    {
      "cell_type": "code",
      "metadata": {
        "colab": {
          "base_uri": "https://localhost:8080/",
          "height": 224
        },
        "id": "RGpHXSa52BV9",
        "outputId": "2045d766-0b37-45e6-e939-87551f867da8"
      },
      "source": [
        "df.groupby(\"Embarked\").describe()"
      ],
      "execution_count": 18,
      "outputs": [
        {
          "output_type": "execute_result",
          "data": {
            "text/html": [
              "<div>\n",
              "<style scoped>\n",
              "    .dataframe tbody tr th:only-of-type {\n",
              "        vertical-align: middle;\n",
              "    }\n",
              "\n",
              "    .dataframe tbody tr th {\n",
              "        vertical-align: top;\n",
              "    }\n",
              "\n",
              "    .dataframe thead tr th {\n",
              "        text-align: left;\n",
              "    }\n",
              "\n",
              "    .dataframe thead tr:last-of-type th {\n",
              "        text-align: right;\n",
              "    }\n",
              "</style>\n",
              "<table border=\"1\" class=\"dataframe\">\n",
              "  <thead>\n",
              "    <tr>\n",
              "      <th></th>\n",
              "      <th colspan=\"8\" halign=\"left\">Age</th>\n",
              "      <th colspan=\"8\" halign=\"left\">SibSp</th>\n",
              "      <th colspan=\"8\" halign=\"left\">Parch</th>\n",
              "      <th colspan=\"8\" halign=\"left\">Fare</th>\n",
              "      <th colspan=\"8\" halign=\"left\">female</th>\n",
              "      <th colspan=\"8\" halign=\"left\">male</th>\n",
              "      <th colspan=\"8\" halign=\"left\">Lower</th>\n",
              "      <th colspan=\"8\" halign=\"left\">Middle</th>\n",
              "      <th colspan=\"8\" halign=\"left\">Upper</th>\n",
              "    </tr>\n",
              "    <tr>\n",
              "      <th></th>\n",
              "      <th>count</th>\n",
              "      <th>mean</th>\n",
              "      <th>std</th>\n",
              "      <th>min</th>\n",
              "      <th>25%</th>\n",
              "      <th>50%</th>\n",
              "      <th>75%</th>\n",
              "      <th>max</th>\n",
              "      <th>count</th>\n",
              "      <th>mean</th>\n",
              "      <th>std</th>\n",
              "      <th>min</th>\n",
              "      <th>25%</th>\n",
              "      <th>50%</th>\n",
              "      <th>75%</th>\n",
              "      <th>max</th>\n",
              "      <th>count</th>\n",
              "      <th>mean</th>\n",
              "      <th>std</th>\n",
              "      <th>min</th>\n",
              "      <th>25%</th>\n",
              "      <th>50%</th>\n",
              "      <th>75%</th>\n",
              "      <th>max</th>\n",
              "      <th>count</th>\n",
              "      <th>mean</th>\n",
              "      <th>std</th>\n",
              "      <th>min</th>\n",
              "      <th>25%</th>\n",
              "      <th>50%</th>\n",
              "      <th>75%</th>\n",
              "      <th>max</th>\n",
              "      <th>count</th>\n",
              "      <th>mean</th>\n",
              "      <th>std</th>\n",
              "      <th>min</th>\n",
              "      <th>25%</th>\n",
              "      <th>50%</th>\n",
              "      <th>75%</th>\n",
              "      <th>max</th>\n",
              "      <th>count</th>\n",
              "      <th>mean</th>\n",
              "      <th>std</th>\n",
              "      <th>min</th>\n",
              "      <th>25%</th>\n",
              "      <th>50%</th>\n",
              "      <th>75%</th>\n",
              "      <th>max</th>\n",
              "      <th>count</th>\n",
              "      <th>mean</th>\n",
              "      <th>std</th>\n",
              "      <th>min</th>\n",
              "      <th>25%</th>\n",
              "      <th>50%</th>\n",
              "      <th>75%</th>\n",
              "      <th>max</th>\n",
              "      <th>count</th>\n",
              "      <th>mean</th>\n",
              "      <th>std</th>\n",
              "      <th>min</th>\n",
              "      <th>25%</th>\n",
              "      <th>50%</th>\n",
              "      <th>75%</th>\n",
              "      <th>max</th>\n",
              "      <th>count</th>\n",
              "      <th>mean</th>\n",
              "      <th>std</th>\n",
              "      <th>min</th>\n",
              "      <th>25%</th>\n",
              "      <th>50%</th>\n",
              "      <th>75%</th>\n",
              "      <th>max</th>\n",
              "    </tr>\n",
              "    <tr>\n",
              "      <th>Embarked</th>\n",
              "      <th></th>\n",
              "      <th></th>\n",
              "      <th></th>\n",
              "      <th></th>\n",
              "      <th></th>\n",
              "      <th></th>\n",
              "      <th></th>\n",
              "      <th></th>\n",
              "      <th></th>\n",
              "      <th></th>\n",
              "      <th></th>\n",
              "      <th></th>\n",
              "      <th></th>\n",
              "      <th></th>\n",
              "      <th></th>\n",
              "      <th></th>\n",
              "      <th></th>\n",
              "      <th></th>\n",
              "      <th></th>\n",
              "      <th></th>\n",
              "      <th></th>\n",
              "      <th></th>\n",
              "      <th></th>\n",
              "      <th></th>\n",
              "      <th></th>\n",
              "      <th></th>\n",
              "      <th></th>\n",
              "      <th></th>\n",
              "      <th></th>\n",
              "      <th></th>\n",
              "      <th></th>\n",
              "      <th></th>\n",
              "      <th></th>\n",
              "      <th></th>\n",
              "      <th></th>\n",
              "      <th></th>\n",
              "      <th></th>\n",
              "      <th></th>\n",
              "      <th></th>\n",
              "      <th></th>\n",
              "      <th></th>\n",
              "      <th></th>\n",
              "      <th></th>\n",
              "      <th></th>\n",
              "      <th></th>\n",
              "      <th></th>\n",
              "      <th></th>\n",
              "      <th></th>\n",
              "      <th></th>\n",
              "      <th></th>\n",
              "      <th></th>\n",
              "      <th></th>\n",
              "      <th></th>\n",
              "      <th></th>\n",
              "      <th></th>\n",
              "      <th></th>\n",
              "      <th></th>\n",
              "      <th></th>\n",
              "      <th></th>\n",
              "      <th></th>\n",
              "      <th></th>\n",
              "      <th></th>\n",
              "      <th></th>\n",
              "      <th></th>\n",
              "      <th></th>\n",
              "      <th></th>\n",
              "      <th></th>\n",
              "      <th></th>\n",
              "      <th></th>\n",
              "      <th></th>\n",
              "      <th></th>\n",
              "      <th></th>\n",
              "    </tr>\n",
              "  </thead>\n",
              "  <tbody>\n",
              "    <tr>\n",
              "      <th>C</th>\n",
              "      <td>130.0</td>\n",
              "      <td>30.814769</td>\n",
              "      <td>15.434860</td>\n",
              "      <td>0.42</td>\n",
              "      <td>21.25</td>\n",
              "      <td>29.0</td>\n",
              "      <td>40.0</td>\n",
              "      <td>71.0</td>\n",
              "      <td>168.0</td>\n",
              "      <td>0.386905</td>\n",
              "      <td>0.557213</td>\n",
              "      <td>0.0</td>\n",
              "      <td>0.0</td>\n",
              "      <td>0.0</td>\n",
              "      <td>1.0</td>\n",
              "      <td>2.0</td>\n",
              "      <td>168.0</td>\n",
              "      <td>0.363095</td>\n",
              "      <td>0.660481</td>\n",
              "      <td>0.0</td>\n",
              "      <td>0.0</td>\n",
              "      <td>0.0</td>\n",
              "      <td>1.0</td>\n",
              "      <td>3.0</td>\n",
              "      <td>168.0</td>\n",
              "      <td>59.954144</td>\n",
              "      <td>83.912994</td>\n",
              "      <td>4.0125</td>\n",
              "      <td>13.69795</td>\n",
              "      <td>29.70</td>\n",
              "      <td>78.500025</td>\n",
              "      <td>512.3292</td>\n",
              "      <td>168.0</td>\n",
              "      <td>0.434524</td>\n",
              "      <td>0.497176</td>\n",
              "      <td>0.0</td>\n",
              "      <td>0.0</td>\n",
              "      <td>0.0</td>\n",
              "      <td>1.0</td>\n",
              "      <td>1.0</td>\n",
              "      <td>168.0</td>\n",
              "      <td>0.565476</td>\n",
              "      <td>0.497176</td>\n",
              "      <td>0.0</td>\n",
              "      <td>0.0</td>\n",
              "      <td>1.0</td>\n",
              "      <td>1.0</td>\n",
              "      <td>1.0</td>\n",
              "      <td>168.0</td>\n",
              "      <td>0.392857</td>\n",
              "      <td>0.489846</td>\n",
              "      <td>0.0</td>\n",
              "      <td>0.0</td>\n",
              "      <td>0.0</td>\n",
              "      <td>1.0</td>\n",
              "      <td>1.0</td>\n",
              "      <td>168.0</td>\n",
              "      <td>0.101190</td>\n",
              "      <td>0.302482</td>\n",
              "      <td>0.0</td>\n",
              "      <td>0.0</td>\n",
              "      <td>0.0</td>\n",
              "      <td>0.0</td>\n",
              "      <td>1.0</td>\n",
              "      <td>168.0</td>\n",
              "      <td>0.505952</td>\n",
              "      <td>0.501459</td>\n",
              "      <td>0.0</td>\n",
              "      <td>0.0</td>\n",
              "      <td>1.0</td>\n",
              "      <td>1.0</td>\n",
              "      <td>1.0</td>\n",
              "    </tr>\n",
              "    <tr>\n",
              "      <th>Q</th>\n",
              "      <td>28.0</td>\n",
              "      <td>28.089286</td>\n",
              "      <td>16.915396</td>\n",
              "      <td>2.00</td>\n",
              "      <td>17.50</td>\n",
              "      <td>27.0</td>\n",
              "      <td>34.5</td>\n",
              "      <td>70.5</td>\n",
              "      <td>77.0</td>\n",
              "      <td>0.428571</td>\n",
              "      <td>0.979105</td>\n",
              "      <td>0.0</td>\n",
              "      <td>0.0</td>\n",
              "      <td>0.0</td>\n",
              "      <td>0.0</td>\n",
              "      <td>4.0</td>\n",
              "      <td>77.0</td>\n",
              "      <td>0.168831</td>\n",
              "      <td>0.656999</td>\n",
              "      <td>0.0</td>\n",
              "      <td>0.0</td>\n",
              "      <td>0.0</td>\n",
              "      <td>0.0</td>\n",
              "      <td>5.0</td>\n",
              "      <td>77.0</td>\n",
              "      <td>13.276030</td>\n",
              "      <td>14.188047</td>\n",
              "      <td>6.7500</td>\n",
              "      <td>7.75000</td>\n",
              "      <td>7.75</td>\n",
              "      <td>15.500000</td>\n",
              "      <td>90.0000</td>\n",
              "      <td>77.0</td>\n",
              "      <td>0.467532</td>\n",
              "      <td>0.502217</td>\n",
              "      <td>0.0</td>\n",
              "      <td>0.0</td>\n",
              "      <td>0.0</td>\n",
              "      <td>1.0</td>\n",
              "      <td>1.0</td>\n",
              "      <td>77.0</td>\n",
              "      <td>0.532468</td>\n",
              "      <td>0.502217</td>\n",
              "      <td>0.0</td>\n",
              "      <td>0.0</td>\n",
              "      <td>1.0</td>\n",
              "      <td>1.0</td>\n",
              "      <td>1.0</td>\n",
              "      <td>77.0</td>\n",
              "      <td>0.935065</td>\n",
              "      <td>0.248027</td>\n",
              "      <td>0.0</td>\n",
              "      <td>1.0</td>\n",
              "      <td>1.0</td>\n",
              "      <td>1.0</td>\n",
              "      <td>1.0</td>\n",
              "      <td>77.0</td>\n",
              "      <td>0.038961</td>\n",
              "      <td>0.194771</td>\n",
              "      <td>0.0</td>\n",
              "      <td>0.0</td>\n",
              "      <td>0.0</td>\n",
              "      <td>0.0</td>\n",
              "      <td>1.0</td>\n",
              "      <td>77.0</td>\n",
              "      <td>0.025974</td>\n",
              "      <td>0.160101</td>\n",
              "      <td>0.0</td>\n",
              "      <td>0.0</td>\n",
              "      <td>0.0</td>\n",
              "      <td>0.0</td>\n",
              "      <td>1.0</td>\n",
              "    </tr>\n",
              "    <tr>\n",
              "      <th>S</th>\n",
              "      <td>554.0</td>\n",
              "      <td>29.445397</td>\n",
              "      <td>14.143192</td>\n",
              "      <td>0.67</td>\n",
              "      <td>21.00</td>\n",
              "      <td>28.0</td>\n",
              "      <td>38.0</td>\n",
              "      <td>80.0</td>\n",
              "      <td>644.0</td>\n",
              "      <td>0.571429</td>\n",
              "      <td>1.216600</td>\n",
              "      <td>0.0</td>\n",
              "      <td>0.0</td>\n",
              "      <td>0.0</td>\n",
              "      <td>1.0</td>\n",
              "      <td>8.0</td>\n",
              "      <td>644.0</td>\n",
              "      <td>0.413043</td>\n",
              "      <td>0.853253</td>\n",
              "      <td>0.0</td>\n",
              "      <td>0.0</td>\n",
              "      <td>0.0</td>\n",
              "      <td>0.0</td>\n",
              "      <td>6.0</td>\n",
              "      <td>644.0</td>\n",
              "      <td>27.079812</td>\n",
              "      <td>35.887993</td>\n",
              "      <td>0.0000</td>\n",
              "      <td>8.05000</td>\n",
              "      <td>13.00</td>\n",
              "      <td>27.900000</td>\n",
              "      <td>263.0000</td>\n",
              "      <td>644.0</td>\n",
              "      <td>0.315217</td>\n",
              "      <td>0.464964</td>\n",
              "      <td>0.0</td>\n",
              "      <td>0.0</td>\n",
              "      <td>0.0</td>\n",
              "      <td>1.0</td>\n",
              "      <td>1.0</td>\n",
              "      <td>644.0</td>\n",
              "      <td>0.684783</td>\n",
              "      <td>0.464964</td>\n",
              "      <td>0.0</td>\n",
              "      <td>0.0</td>\n",
              "      <td>1.0</td>\n",
              "      <td>1.0</td>\n",
              "      <td>1.0</td>\n",
              "      <td>644.0</td>\n",
              "      <td>0.548137</td>\n",
              "      <td>0.498064</td>\n",
              "      <td>0.0</td>\n",
              "      <td>0.0</td>\n",
              "      <td>1.0</td>\n",
              "      <td>1.0</td>\n",
              "      <td>1.0</td>\n",
              "      <td>644.0</td>\n",
              "      <td>0.254658</td>\n",
              "      <td>0.436008</td>\n",
              "      <td>0.0</td>\n",
              "      <td>0.0</td>\n",
              "      <td>0.0</td>\n",
              "      <td>1.0</td>\n",
              "      <td>1.0</td>\n",
              "      <td>644.0</td>\n",
              "      <td>0.197205</td>\n",
              "      <td>0.398198</td>\n",
              "      <td>0.0</td>\n",
              "      <td>0.0</td>\n",
              "      <td>0.0</td>\n",
              "      <td>0.0</td>\n",
              "      <td>1.0</td>\n",
              "    </tr>\n",
              "  </tbody>\n",
              "</table>\n",
              "</div>"
            ],
            "text/plain": [
              "            Age                                     ... Upper                    \n",
              "          count       mean        std   min    25%  ...   min  25%  50%  75%  max\n",
              "Embarked                                            ...                          \n",
              "C         130.0  30.814769  15.434860  0.42  21.25  ...   0.0  0.0  1.0  1.0  1.0\n",
              "Q          28.0  28.089286  16.915396  2.00  17.50  ...   0.0  0.0  0.0  0.0  1.0\n",
              "S         554.0  29.445397  14.143192  0.67  21.00  ...   0.0  0.0  0.0  0.0  1.0\n",
              "\n",
              "[3 rows x 72 columns]"
            ]
          },
          "metadata": {
            "tags": []
          },
          "execution_count": 18
        }
      ]
    },
    {
      "cell_type": "code",
      "metadata": {
        "id": "sX50eQDZ-865"
      },
      "source": [
        "df['Embarked'] = df['Embarked'].fillna('C')\n",
        "\n",
        "df = pd.concat([df.drop('Embarked', axis=1), pd.get_dummies(df['Embarked'], prefix='Embarked')], axis=1)\n",
        "test_df = pd.concat([test_df.drop('Embarked', axis=1), pd.get_dummies(test_df['Embarked'], prefix='Embarked')], axis=1)"
      ],
      "execution_count": 154,
      "outputs": []
    },
    {
      "cell_type": "code",
      "metadata": {
        "colab": {
          "base_uri": "https://localhost:8080/",
          "height": 297
        },
        "id": "CMX1EYE8kUto",
        "outputId": "1abf903a-8a78-41a3-a478-031a731cf1f5"
      },
      "source": [
        "df[['Age', 'SibSp', 'Parch']][(df['SibSp'] == 1) & (df['Parch'] == 2) & (~df['Age'].isnull())].describe()"
      ],
      "execution_count": 21,
      "outputs": [
        {
          "output_type": "execute_result",
          "data": {
            "text/html": [
              "<div>\n",
              "<style scoped>\n",
              "    .dataframe tbody tr th:only-of-type {\n",
              "        vertical-align: middle;\n",
              "    }\n",
              "\n",
              "    .dataframe tbody tr th {\n",
              "        vertical-align: top;\n",
              "    }\n",
              "\n",
              "    .dataframe thead th {\n",
              "        text-align: right;\n",
              "    }\n",
              "</style>\n",
              "<table border=\"1\" class=\"dataframe\">\n",
              "  <thead>\n",
              "    <tr style=\"text-align: right;\">\n",
              "      <th></th>\n",
              "      <th>Age</th>\n",
              "      <th>SibSp</th>\n",
              "      <th>Parch</th>\n",
              "    </tr>\n",
              "  </thead>\n",
              "  <tbody>\n",
              "    <tr>\n",
              "      <th>count</th>\n",
              "      <td>17.000000</td>\n",
              "      <td>17.0</td>\n",
              "      <td>17.0</td>\n",
              "    </tr>\n",
              "    <tr>\n",
              "      <th>mean</th>\n",
              "      <td>20.465882</td>\n",
              "      <td>1.0</td>\n",
              "      <td>2.0</td>\n",
              "    </tr>\n",
              "    <tr>\n",
              "      <th>std</th>\n",
              "      <td>14.797290</td>\n",
              "      <td>0.0</td>\n",
              "      <td>0.0</td>\n",
              "    </tr>\n",
              "    <tr>\n",
              "      <th>min</th>\n",
              "      <td>0.920000</td>\n",
              "      <td>1.0</td>\n",
              "      <td>2.0</td>\n",
              "    </tr>\n",
              "    <tr>\n",
              "      <th>25%</th>\n",
              "      <td>5.000000</td>\n",
              "      <td>1.0</td>\n",
              "      <td>2.0</td>\n",
              "    </tr>\n",
              "    <tr>\n",
              "      <th>50%</th>\n",
              "      <td>24.000000</td>\n",
              "      <td>1.0</td>\n",
              "      <td>2.0</td>\n",
              "    </tr>\n",
              "    <tr>\n",
              "      <th>75%</th>\n",
              "      <td>33.000000</td>\n",
              "      <td>1.0</td>\n",
              "      <td>2.0</td>\n",
              "    </tr>\n",
              "    <tr>\n",
              "      <th>max</th>\n",
              "      <td>48.000000</td>\n",
              "      <td>1.0</td>\n",
              "      <td>2.0</td>\n",
              "    </tr>\n",
              "  </tbody>\n",
              "</table>\n",
              "</div>"
            ],
            "text/plain": [
              "             Age  SibSp  Parch\n",
              "count  17.000000   17.0   17.0\n",
              "mean   20.465882    1.0    2.0\n",
              "std    14.797290    0.0    0.0\n",
              "min     0.920000    1.0    2.0\n",
              "25%     5.000000    1.0    2.0\n",
              "50%    24.000000    1.0    2.0\n",
              "75%    33.000000    1.0    2.0\n",
              "max    48.000000    1.0    2.0"
            ]
          },
          "metadata": {
            "tags": []
          },
          "execution_count": 21
        }
      ]
    },
    {
      "cell_type": "code",
      "metadata": {
        "id": "HjwvhGbn47uh"
      },
      "source": [
        "df.loc[df['Age'].isnull() & df['Name'].str.contains('Master'), 'Age'] = df.loc[df['Age'].isnull() & df['Name'].str.contains('Master'), 'Age'].fillna(5)\n",
        "df.loc[df['Age'].isnull() & df['Name'].str.contains('Mr'), 'Age'] = df.loc[df['Age'].isnull() & df['Name'].str.contains('Mr'), 'Age'].fillna(33)\n",
        "df.loc[df['Age'].isnull() & df['Name'].str.contains('Miss') & (df['SibSp'] > 1), 'Age'] = df.loc[df['Age'].isnull() & df['Name'].str.contains('Miss') & (df['SibSp'] > 1), 'Age'].fillna(10)\n",
        "df.loc[df['Age'].isnull() & df['Name'].str.contains('Miss'), 'Age'] = df.loc[df['Age'].isnull() & df['Name'].str.contains('Miss'), 'Age'].fillna(23)\n",
        "df.loc[df['Age'].isnull(), 'Age'] = df.loc[df['Age'].isnull(), 'Age'].fillna(33)"
      ],
      "execution_count": 155,
      "outputs": []
    },
    {
      "cell_type": "code",
      "metadata": {
        "id": "sM2lxKNw6YVa",
        "colab": {
          "base_uri": "https://localhost:8080/",
          "height": 204
        },
        "outputId": "98b93aed-bd17-4cd3-9b6d-b808b40eaf8c"
      },
      "source": [
        "df = df.drop(['Cabin', 'Name', 'Ticket', 'PassengerId'], axis=1, errors='raise')\n",
        "df.head()"
      ],
      "execution_count": 156,
      "outputs": [
        {
          "output_type": "execute_result",
          "data": {
            "text/html": [
              "<div>\n",
              "<style scoped>\n",
              "    .dataframe tbody tr th:only-of-type {\n",
              "        vertical-align: middle;\n",
              "    }\n",
              "\n",
              "    .dataframe tbody tr th {\n",
              "        vertical-align: top;\n",
              "    }\n",
              "\n",
              "    .dataframe thead th {\n",
              "        text-align: right;\n",
              "    }\n",
              "</style>\n",
              "<table border=\"1\" class=\"dataframe\">\n",
              "  <thead>\n",
              "    <tr style=\"text-align: right;\">\n",
              "      <th></th>\n",
              "      <th>Survived</th>\n",
              "      <th>Age</th>\n",
              "      <th>SibSp</th>\n",
              "      <th>Parch</th>\n",
              "      <th>Fare</th>\n",
              "      <th>female</th>\n",
              "      <th>male</th>\n",
              "      <th>Lower</th>\n",
              "      <th>Middle</th>\n",
              "      <th>Upper</th>\n",
              "      <th>Embarked_C</th>\n",
              "      <th>Embarked_Q</th>\n",
              "      <th>Embarked_S</th>\n",
              "    </tr>\n",
              "  </thead>\n",
              "  <tbody>\n",
              "    <tr>\n",
              "      <th>0</th>\n",
              "      <td>0</td>\n",
              "      <td>22.0</td>\n",
              "      <td>1</td>\n",
              "      <td>0</td>\n",
              "      <td>7.2500</td>\n",
              "      <td>0</td>\n",
              "      <td>1</td>\n",
              "      <td>1</td>\n",
              "      <td>0</td>\n",
              "      <td>0</td>\n",
              "      <td>0</td>\n",
              "      <td>0</td>\n",
              "      <td>1</td>\n",
              "    </tr>\n",
              "    <tr>\n",
              "      <th>1</th>\n",
              "      <td>1</td>\n",
              "      <td>38.0</td>\n",
              "      <td>1</td>\n",
              "      <td>0</td>\n",
              "      <td>71.2833</td>\n",
              "      <td>1</td>\n",
              "      <td>0</td>\n",
              "      <td>0</td>\n",
              "      <td>0</td>\n",
              "      <td>1</td>\n",
              "      <td>1</td>\n",
              "      <td>0</td>\n",
              "      <td>0</td>\n",
              "    </tr>\n",
              "    <tr>\n",
              "      <th>2</th>\n",
              "      <td>1</td>\n",
              "      <td>26.0</td>\n",
              "      <td>0</td>\n",
              "      <td>0</td>\n",
              "      <td>7.9250</td>\n",
              "      <td>1</td>\n",
              "      <td>0</td>\n",
              "      <td>1</td>\n",
              "      <td>0</td>\n",
              "      <td>0</td>\n",
              "      <td>0</td>\n",
              "      <td>0</td>\n",
              "      <td>1</td>\n",
              "    </tr>\n",
              "    <tr>\n",
              "      <th>3</th>\n",
              "      <td>1</td>\n",
              "      <td>35.0</td>\n",
              "      <td>1</td>\n",
              "      <td>0</td>\n",
              "      <td>53.1000</td>\n",
              "      <td>1</td>\n",
              "      <td>0</td>\n",
              "      <td>0</td>\n",
              "      <td>0</td>\n",
              "      <td>1</td>\n",
              "      <td>0</td>\n",
              "      <td>0</td>\n",
              "      <td>1</td>\n",
              "    </tr>\n",
              "    <tr>\n",
              "      <th>4</th>\n",
              "      <td>0</td>\n",
              "      <td>35.0</td>\n",
              "      <td>0</td>\n",
              "      <td>0</td>\n",
              "      <td>8.0500</td>\n",
              "      <td>0</td>\n",
              "      <td>1</td>\n",
              "      <td>1</td>\n",
              "      <td>0</td>\n",
              "      <td>0</td>\n",
              "      <td>0</td>\n",
              "      <td>0</td>\n",
              "      <td>1</td>\n",
              "    </tr>\n",
              "  </tbody>\n",
              "</table>\n",
              "</div>"
            ],
            "text/plain": [
              "  Survived   Age  SibSp  Parch  ...  Upper  Embarked_C  Embarked_Q  Embarked_S\n",
              "0        0  22.0      1      0  ...      0           0           0           1\n",
              "1        1  38.0      1      0  ...      1           1           0           0\n",
              "2        1  26.0      0      0  ...      0           0           0           1\n",
              "3        1  35.0      1      0  ...      1           0           0           1\n",
              "4        0  35.0      0      0  ...      0           0           0           1\n",
              "\n",
              "[5 rows x 13 columns]"
            ]
          },
          "metadata": {
            "tags": []
          },
          "execution_count": 156
        }
      ]
    },
    {
      "cell_type": "code",
      "metadata": {
        "id": "xGn3NlgH7bqY"
      },
      "source": [
        "mean = test_df[\"Age\"].mean()\n",
        "std = test_df[\"Age\"].std()\n",
        "is_null = test_df[\"Age\"].isnull().sum()\n",
        "rand_age = np.random.randint(mean - std, mean + std, size = is_null)\n",
        "test_df.loc[test_df['Age'].isnull(), 'Age'] = rand_age\n",
        "\n",
        "test_df.loc[test_df['Fare'].isnull(), 'Fare'] = test_df.loc[test_df['Fare'].isnull(), 'Fare'].replace(np.nan, test_df['Fare'].mean())"
      ],
      "execution_count": 157,
      "outputs": []
    },
    {
      "cell_type": "code",
      "metadata": {
        "colab": {
          "base_uri": "https://localhost:8080/",
          "height": 204
        },
        "id": "u_R7uqFo-BHM",
        "outputId": "29f29ab3-9305-4499-d892-016cd65dac0b"
      },
      "source": [
        "passenger_id = test_df['PassengerId']\n",
        "test_df = test_df.drop(['Cabin', 'Name', 'Ticket', 'PassengerId'], axis=1, errors='raise')\n",
        "test_df.head()"
      ],
      "execution_count": 158,
      "outputs": [
        {
          "output_type": "execute_result",
          "data": {
            "text/html": [
              "<div>\n",
              "<style scoped>\n",
              "    .dataframe tbody tr th:only-of-type {\n",
              "        vertical-align: middle;\n",
              "    }\n",
              "\n",
              "    .dataframe tbody tr th {\n",
              "        vertical-align: top;\n",
              "    }\n",
              "\n",
              "    .dataframe thead th {\n",
              "        text-align: right;\n",
              "    }\n",
              "</style>\n",
              "<table border=\"1\" class=\"dataframe\">\n",
              "  <thead>\n",
              "    <tr style=\"text-align: right;\">\n",
              "      <th></th>\n",
              "      <th>Age</th>\n",
              "      <th>SibSp</th>\n",
              "      <th>Parch</th>\n",
              "      <th>Fare</th>\n",
              "      <th>female</th>\n",
              "      <th>male</th>\n",
              "      <th>Lower</th>\n",
              "      <th>Middle</th>\n",
              "      <th>Upper</th>\n",
              "      <th>Embarked_C</th>\n",
              "      <th>Embarked_Q</th>\n",
              "      <th>Embarked_S</th>\n",
              "    </tr>\n",
              "  </thead>\n",
              "  <tbody>\n",
              "    <tr>\n",
              "      <th>0</th>\n",
              "      <td>34.5</td>\n",
              "      <td>0</td>\n",
              "      <td>0</td>\n",
              "      <td>7.8292</td>\n",
              "      <td>0</td>\n",
              "      <td>1</td>\n",
              "      <td>1</td>\n",
              "      <td>0</td>\n",
              "      <td>0</td>\n",
              "      <td>0</td>\n",
              "      <td>1</td>\n",
              "      <td>0</td>\n",
              "    </tr>\n",
              "    <tr>\n",
              "      <th>1</th>\n",
              "      <td>47.0</td>\n",
              "      <td>1</td>\n",
              "      <td>0</td>\n",
              "      <td>7.0000</td>\n",
              "      <td>1</td>\n",
              "      <td>0</td>\n",
              "      <td>1</td>\n",
              "      <td>0</td>\n",
              "      <td>0</td>\n",
              "      <td>0</td>\n",
              "      <td>0</td>\n",
              "      <td>1</td>\n",
              "    </tr>\n",
              "    <tr>\n",
              "      <th>2</th>\n",
              "      <td>62.0</td>\n",
              "      <td>0</td>\n",
              "      <td>0</td>\n",
              "      <td>9.6875</td>\n",
              "      <td>0</td>\n",
              "      <td>1</td>\n",
              "      <td>0</td>\n",
              "      <td>1</td>\n",
              "      <td>0</td>\n",
              "      <td>0</td>\n",
              "      <td>1</td>\n",
              "      <td>0</td>\n",
              "    </tr>\n",
              "    <tr>\n",
              "      <th>3</th>\n",
              "      <td>27.0</td>\n",
              "      <td>0</td>\n",
              "      <td>0</td>\n",
              "      <td>8.6625</td>\n",
              "      <td>0</td>\n",
              "      <td>1</td>\n",
              "      <td>1</td>\n",
              "      <td>0</td>\n",
              "      <td>0</td>\n",
              "      <td>0</td>\n",
              "      <td>0</td>\n",
              "      <td>1</td>\n",
              "    </tr>\n",
              "    <tr>\n",
              "      <th>4</th>\n",
              "      <td>22.0</td>\n",
              "      <td>1</td>\n",
              "      <td>1</td>\n",
              "      <td>12.2875</td>\n",
              "      <td>1</td>\n",
              "      <td>0</td>\n",
              "      <td>1</td>\n",
              "      <td>0</td>\n",
              "      <td>0</td>\n",
              "      <td>0</td>\n",
              "      <td>0</td>\n",
              "      <td>1</td>\n",
              "    </tr>\n",
              "  </tbody>\n",
              "</table>\n",
              "</div>"
            ],
            "text/plain": [
              "    Age  SibSp  Parch     Fare  ...  Upper  Embarked_C  Embarked_Q  Embarked_S\n",
              "0  34.5      0      0   7.8292  ...      0           0           1           0\n",
              "1  47.0      1      0   7.0000  ...      0           0           0           1\n",
              "2  62.0      0      0   9.6875  ...      0           0           1           0\n",
              "3  27.0      0      0   8.6625  ...      0           0           0           1\n",
              "4  22.0      1      1  12.2875  ...      0           0           0           1\n",
              "\n",
              "[5 rows x 12 columns]"
            ]
          },
          "metadata": {
            "tags": []
          },
          "execution_count": 158
        }
      ]
    },
    {
      "cell_type": "code",
      "metadata": {
        "id": "D6vw0Qv3_uSf"
      },
      "source": [
        "X = df.loc[:, [name for name in df.columns.values if name != \"Survived\"]].values\n",
        "y = df.loc[:, ['Survived']].astype('int').values.ravel()"
      ],
      "execution_count": 159,
      "outputs": []
    },
    {
      "cell_type": "code",
      "metadata": {
        "id": "Mou9SKLT_xNo"
      },
      "source": [
        "from sklearn.preprocessing import StandardScaler\n",
        "from sklearn.decomposition import PCA"
      ],
      "execution_count": 31,
      "outputs": []
    },
    {
      "cell_type": "code",
      "metadata": {
        "id": "TV8B1TbRAsgC"
      },
      "source": [
        "X = StandardScaler().fit_transform(X)"
      ],
      "execution_count": 32,
      "outputs": []
    },
    {
      "cell_type": "code",
      "metadata": {
        "id": "dbsHxjtYA2uX"
      },
      "source": [
        "pca = PCA(n_components=8)\n",
        "pca_X = pca.fit_transform(X)"
      ],
      "execution_count": 33,
      "outputs": []
    },
    {
      "cell_type": "code",
      "metadata": {
        "colab": {
          "base_uri": "https://localhost:8080/"
        },
        "id": "BPQ1PO-IBt-M",
        "outputId": "6fea12c5-53d1-4ea1-c72c-de8f1fb18475"
      },
      "source": [
        "pca.explained_variance_ratio_"
      ],
      "execution_count": 34,
      "outputs": [
        {
          "output_type": "execute_result",
          "data": {
            "text/plain": [
              "array([0.22633718, 0.18316152, 0.16324585, 0.1232609 , 0.09243751,\n",
              "       0.0770757 , 0.05618505, 0.04561971])"
            ]
          },
          "metadata": {
            "tags": []
          },
          "execution_count": 34
        }
      ]
    },
    {
      "cell_type": "code",
      "metadata": {
        "colab": {
          "base_uri": "https://localhost:8080/",
          "height": 204
        },
        "id": "l6n9hNixBzkK",
        "outputId": "664372fb-d545-4e25-ff32-e63a255c6f0e"
      },
      "source": [
        "columns = ['pca_%i' % i for i in range(8)]\n",
        "df_pca = pd.DataFrame(pca_X, columns=columns, index=df.index)\n",
        "df_pca.head()"
      ],
      "execution_count": 35,
      "outputs": [
        {
          "output_type": "execute_result",
          "data": {
            "text/html": [
              "<div>\n",
              "<style scoped>\n",
              "    .dataframe tbody tr th:only-of-type {\n",
              "        vertical-align: middle;\n",
              "    }\n",
              "\n",
              "    .dataframe tbody tr th {\n",
              "        vertical-align: top;\n",
              "    }\n",
              "\n",
              "    .dataframe thead th {\n",
              "        text-align: right;\n",
              "    }\n",
              "</style>\n",
              "<table border=\"1\" class=\"dataframe\">\n",
              "  <thead>\n",
              "    <tr style=\"text-align: right;\">\n",
              "      <th></th>\n",
              "      <th>pca_0</th>\n",
              "      <th>pca_1</th>\n",
              "      <th>pca_2</th>\n",
              "      <th>pca_3</th>\n",
              "      <th>pca_4</th>\n",
              "      <th>pca_5</th>\n",
              "      <th>pca_6</th>\n",
              "      <th>pca_7</th>\n",
              "    </tr>\n",
              "  </thead>\n",
              "  <tbody>\n",
              "    <tr>\n",
              "      <th>0</th>\n",
              "      <td>-1.749536</td>\n",
              "      <td>0.095944</td>\n",
              "      <td>0.133422</td>\n",
              "      <td>0.797169</td>\n",
              "      <td>-0.093810</td>\n",
              "      <td>-0.360881</td>\n",
              "      <td>-0.459548</td>\n",
              "      <td>0.346133</td>\n",
              "    </tr>\n",
              "    <tr>\n",
              "      <th>1</th>\n",
              "      <td>3.691497</td>\n",
              "      <td>-0.429315</td>\n",
              "      <td>0.999736</td>\n",
              "      <td>-0.279992</td>\n",
              "      <td>0.052282</td>\n",
              "      <td>-0.675255</td>\n",
              "      <td>-0.033486</td>\n",
              "      <td>1.068974</td>\n",
              "    </tr>\n",
              "    <tr>\n",
              "      <th>2</th>\n",
              "      <td>-0.240494</td>\n",
              "      <td>1.490412</td>\n",
              "      <td>-0.072784</td>\n",
              "      <td>-0.932916</td>\n",
              "      <td>-1.293919</td>\n",
              "      <td>-1.267410</td>\n",
              "      <td>-0.191105</td>\n",
              "      <td>0.125725</td>\n",
              "    </tr>\n",
              "    <tr>\n",
              "      <th>3</th>\n",
              "      <td>2.009312</td>\n",
              "      <td>0.191486</td>\n",
              "      <td>-1.135887</td>\n",
              "      <td>-0.169631</td>\n",
              "      <td>-1.667606</td>\n",
              "      <td>-0.073954</td>\n",
              "      <td>-0.662458</td>\n",
              "      <td>0.813480</td>\n",
              "    </tr>\n",
              "    <tr>\n",
              "      <th>4</th>\n",
              "      <td>-1.689986</td>\n",
              "      <td>-0.607463</td>\n",
              "      <td>0.141852</td>\n",
              "      <td>0.232638</td>\n",
              "      <td>-0.603700</td>\n",
              "      <td>-0.476001</td>\n",
              "      <td>0.238892</td>\n",
              "      <td>-0.022811</td>\n",
              "    </tr>\n",
              "  </tbody>\n",
              "</table>\n",
              "</div>"
            ],
            "text/plain": [
              "      pca_0     pca_1     pca_2  ...     pca_5     pca_6     pca_7\n",
              "0 -1.749536  0.095944  0.133422  ... -0.360881 -0.459548  0.346133\n",
              "1  3.691497 -0.429315  0.999736  ... -0.675255 -0.033486  1.068974\n",
              "2 -0.240494  1.490412 -0.072784  ... -1.267410 -0.191105  0.125725\n",
              "3  2.009312  0.191486 -1.135887  ... -0.073954 -0.662458  0.813480\n",
              "4 -1.689986 -0.607463  0.141852  ... -0.476001  0.238892 -0.022811\n",
              "\n",
              "[5 rows x 8 columns]"
            ]
          },
          "metadata": {
            "tags": []
          },
          "execution_count": 35
        }
      ]
    },
    {
      "cell_type": "markdown",
      "metadata": {
        "id": "awABChBCEFG6"
      },
      "source": [
        "## Making the models"
      ]
    },
    {
      "cell_type": "code",
      "metadata": {
        "id": "jdlUVSdNCnJm",
        "colab": {
          "base_uri": "https://localhost:8080/"
        },
        "outputId": "6b3e8bf3-4c81-442a-bcd8-a6aae5784769"
      },
      "source": [
        "from sklearn.linear_model import LogisticRegression\n",
        "\n",
        "clf = LogisticRegression(random_state=42).fit(X, y)"
      ],
      "execution_count": 60,
      "outputs": [
        {
          "output_type": "stream",
          "text": [
            "/usr/local/lib/python3.7/dist-packages/sklearn/linear_model/_logistic.py:940: ConvergenceWarning: lbfgs failed to converge (status=1):\n",
            "STOP: TOTAL NO. of ITERATIONS REACHED LIMIT.\n",
            "\n",
            "Increase the number of iterations (max_iter) or scale the data as shown in:\n",
            "    https://scikit-learn.org/stable/modules/preprocessing.html\n",
            "Please also refer to the documentation for alternative solver options:\n",
            "    https://scikit-learn.org/stable/modules/linear_model.html#logistic-regression\n",
            "  extra_warning_msg=_LOGISTIC_SOLVER_CONVERGENCE_MSG)\n"
          ],
          "name": "stderr"
        }
      ]
    },
    {
      "cell_type": "code",
      "metadata": {
        "colab": {
          "base_uri": "https://localhost:8080/"
        },
        "id": "FA--EU5DEYfm",
        "outputId": "d46c3928-ae28-4b50-a19b-dc74e5ca3f82"
      },
      "source": [
        "clf.score(X, y)"
      ],
      "execution_count": 62,
      "outputs": [
        {
          "output_type": "execute_result",
          "data": {
            "text/plain": [
              "0.8035914702581369"
            ]
          },
          "metadata": {
            "tags": []
          },
          "execution_count": 62
        }
      ]
    },
    {
      "cell_type": "code",
      "metadata": {
        "id": "2aWaLYBTExjc"
      },
      "source": [
        "from sklearn.ensemble import RandomForestClassifier\n",
        "\n",
        "clf = RandomForestClassifier(n_estimators=200, max_depth=5)"
      ],
      "execution_count": 160,
      "outputs": []
    },
    {
      "cell_type": "code",
      "metadata": {
        "colab": {
          "base_uri": "https://localhost:8080/"
        },
        "id": "SZgzrJo8F7zO",
        "outputId": "f3bbbedc-1cf6-40df-960f-3b4c3eae9350"
      },
      "source": [
        "clf.fit(X, y)"
      ],
      "execution_count": 161,
      "outputs": [
        {
          "output_type": "execute_result",
          "data": {
            "text/plain": [
              "RandomForestClassifier(bootstrap=True, ccp_alpha=0.0, class_weight=None,\n",
              "                       criterion='gini', max_depth=5, max_features='auto',\n",
              "                       max_leaf_nodes=None, max_samples=None,\n",
              "                       min_impurity_decrease=0.0, min_impurity_split=None,\n",
              "                       min_samples_leaf=1, min_samples_split=2,\n",
              "                       min_weight_fraction_leaf=0.0, n_estimators=200,\n",
              "                       n_jobs=None, oob_score=False, random_state=None,\n",
              "                       verbose=0, warm_start=False)"
            ]
          },
          "metadata": {
            "tags": []
          },
          "execution_count": 161
        }
      ]
    },
    {
      "cell_type": "code",
      "metadata": {
        "colab": {
          "base_uri": "https://localhost:8080/"
        },
        "id": "AJ5w0OScGBkI",
        "outputId": "142d46a6-bd35-4903-f06e-502681d95a0e"
      },
      "source": [
        "clf.score(X, y)"
      ],
      "execution_count": 162,
      "outputs": [
        {
          "output_type": "execute_result",
          "data": {
            "text/plain": [
              "0.8473625140291807"
            ]
          },
          "metadata": {
            "tags": []
          },
          "execution_count": 162
        }
      ]
    },
    {
      "cell_type": "code",
      "metadata": {
        "id": "dw0t2pAwHwyn"
      },
      "source": [
        "test_df.loc[test_df['Age'].isnull() & test_df['Name'].str.contains('Master'), 'Age'] = test_df.loc[df['Age'].isnull() & test_df['Name'].str.contains('Master'), 'Age'].fillna(5)\n",
        "test_df.loc[test_df['Age'].isnull() & test_df['Name'].str.contains('Mr'), 'Age'] = test_df.loc[df['Age'].isnull() & test_df['Name'].str.contains('Mr'), 'Age'].fillna(33)\n",
        "test_df.loc[test_df['Age'].isnull() & test_df['Name'].str.contains('Miss') & (test_df['SibSp'] > 1), 'Age'] = test_df.loc[df['Age'].isnull() & df['Name'].str.contains('Miss') & (test_df['SibSp'] > 1), 'Age'].fillna(10)\n",
        "test_df.loc[test_df['Age'].isnull() & test_df['Name'].str.contains('Miss'), 'Age'] = test_df.loc[df['Age'].isnull() & test_df['Name'].str.contains('Miss'), 'Age'].fillna(23)\n",
        "test_df.loc[test_df['Age'].isnull(), 'Age'] = test_df.loc[test_df['Age'].isnull(), 'Age'].fillna(33)\n",
        "test_df.loc[test_df['Fare'].isnull()] = test_df.loc[test_df['Fare'].isnull()].fillna(test_df[(test_df['Embarked'] == 'S') & (test_df['Pclass'] == 3)]['Fare'].mean())"
      ],
      "execution_count": 4,
      "outputs": []
    },
    {
      "cell_type": "code",
      "metadata": {
        "colab": {
          "base_uri": "https://localhost:8080/",
          "height": 80
        },
        "id": "xXX4kljZ3BaT",
        "outputId": "bd347ed9-764e-4ad5-dd08-0bd2b985ee68"
      },
      "source": [
        "test_df.loc[test_df['Fare'].isnull()]"
      ],
      "execution_count": 29,
      "outputs": [
        {
          "output_type": "execute_result",
          "data": {
            "text/html": [
              "<div>\n",
              "<style scoped>\n",
              "    .dataframe tbody tr th:only-of-type {\n",
              "        vertical-align: middle;\n",
              "    }\n",
              "\n",
              "    .dataframe tbody tr th {\n",
              "        vertical-align: top;\n",
              "    }\n",
              "\n",
              "    .dataframe thead th {\n",
              "        text-align: right;\n",
              "    }\n",
              "</style>\n",
              "<table border=\"1\" class=\"dataframe\">\n",
              "  <thead>\n",
              "    <tr style=\"text-align: right;\">\n",
              "      <th></th>\n",
              "      <th>PassengerId</th>\n",
              "      <th>Name</th>\n",
              "      <th>Age</th>\n",
              "      <th>SibSp</th>\n",
              "      <th>Parch</th>\n",
              "      <th>Ticket</th>\n",
              "      <th>Fare</th>\n",
              "      <th>Cabin</th>\n",
              "      <th>female</th>\n",
              "      <th>male</th>\n",
              "      <th>Lower</th>\n",
              "      <th>Middle</th>\n",
              "      <th>Upper</th>\n",
              "      <th>Embarked_C</th>\n",
              "      <th>Embarked_Q</th>\n",
              "      <th>Embarked_S</th>\n",
              "    </tr>\n",
              "  </thead>\n",
              "  <tbody>\n",
              "    <tr>\n",
              "      <th>152</th>\n",
              "      <td>1044</td>\n",
              "      <td>Storey, Mr. Thomas</td>\n",
              "      <td>60.5</td>\n",
              "      <td>0</td>\n",
              "      <td>0</td>\n",
              "      <td>3701</td>\n",
              "      <td>NaN</td>\n",
              "      <td>NaN</td>\n",
              "      <td>0</td>\n",
              "      <td>1</td>\n",
              "      <td>1</td>\n",
              "      <td>0</td>\n",
              "      <td>0</td>\n",
              "      <td>0</td>\n",
              "      <td>0</td>\n",
              "      <td>1</td>\n",
              "    </tr>\n",
              "  </tbody>\n",
              "</table>\n",
              "</div>"
            ],
            "text/plain": [
              "     PassengerId                Name   Age  ...  Embarked_C  Embarked_Q Embarked_S\n",
              "152         1044  Storey, Mr. Thomas  60.5  ...           0           0          1\n",
              "\n",
              "[1 rows x 16 columns]"
            ]
          },
          "metadata": {
            "tags": []
          },
          "execution_count": 29
        }
      ]
    },
    {
      "cell_type": "code",
      "metadata": {
        "id": "eh24gDqJNqAd"
      },
      "source": [
        "test_df.drop(['Cabin', 'Name', 'Ticket', 'PassengerId'], axis=1, inplace=True, errors='raise')"
      ],
      "execution_count": 5,
      "outputs": []
    },
    {
      "cell_type": "code",
      "metadata": {
        "id": "cjut4lBeTne7"
      },
      "source": [
        "test_df = pd.concat([test_df.drop('Sex', axis=1), pd.get_dummies(test_df['Sex'])], axis=1)\n",
        "mapper = {1: 'Upper', 2: 'Middle', 3: 'Lower'}\n",
        "test_df['Pclass'] = test_df['Pclass'].replace(mapper)\n",
        "test_df = pd.concat([test_df.drop('Pclass', axis=1), pd.get_dummies(test_df['Pclass'])], axis=1)\n",
        "test_df = pd.concat([test_df.drop('Embarked', axis=1), pd.get_dummies(test_df['Embarked'], prefix='Embarked')], axis=1)"
      ],
      "execution_count": 6,
      "outputs": []
    },
    {
      "cell_type": "code",
      "metadata": {
        "colab": {
          "base_uri": "https://localhost:8080/"
        },
        "id": "Lr87m1StXRsl",
        "outputId": "2ab8c2d3-3eaa-43b5-cfec-cb59ee039c73"
      },
      "source": [
        "test_df.info()"
      ],
      "execution_count": 117,
      "outputs": [
        {
          "output_type": "stream",
          "text": [
            "<class 'pandas.core.frame.DataFrame'>\n",
            "RangeIndex: 418 entries, 0 to 417\n",
            "Data columns (total 12 columns):\n",
            " #   Column      Non-Null Count  Dtype  \n",
            "---  ------      --------------  -----  \n",
            " 0   Age         418 non-null    float64\n",
            " 1   SibSp       418 non-null    int64  \n",
            " 2   Parch       418 non-null    int64  \n",
            " 3   Fare        417 non-null    float64\n",
            " 4   female      418 non-null    uint8  \n",
            " 5   male        418 non-null    uint8  \n",
            " 6   Lower       418 non-null    uint8  \n",
            " 7   Middle      418 non-null    uint8  \n",
            " 8   Upper       418 non-null    uint8  \n",
            " 9   Embarked_C  418 non-null    uint8  \n",
            " 10  Embarked_Q  418 non-null    uint8  \n",
            " 11  Embarked_S  418 non-null    uint8  \n",
            "dtypes: float64(2), int64(2), uint8(8)\n",
            "memory usage: 16.5 KB\n"
          ],
          "name": "stdout"
        }
      ]
    },
    {
      "cell_type": "code",
      "metadata": {
        "id": "WekGIKj5P0PR"
      },
      "source": [
        "test_X = test_df.loc[:, [name for name in test_df.columns.values if name != \"Survived\"]].values"
      ],
      "execution_count": 7,
      "outputs": []
    },
    {
      "cell_type": "code",
      "metadata": {
        "id": "bTN_J8UeQ4Om"
      },
      "source": [
        "test_X = StandardScaler().fit_transform(test_X)\n",
        "pca = PCA(n_components=8)\n",
        "pca_test_X = pca.fit_transform(test_X)"
      ],
      "execution_count": 10,
      "outputs": []
    },
    {
      "cell_type": "code",
      "metadata": {
        "colab": {
          "base_uri": "https://localhost:8080/"
        },
        "id": "sCWPSi0CS3rO",
        "outputId": "4c28237b-c7ce-4ba3-aa23-967a398311d8"
      },
      "source": [
        "pca_test_X"
      ],
      "execution_count": 11,
      "outputs": [
        {
          "output_type": "execute_result",
          "data": {
            "text/plain": [
              "array([[-1.17318138,  0.49620344, -2.73471872, ...,  1.95230587,\n",
              "         0.1193002 ,  0.50740691],\n",
              "       [-0.15779447,  1.6562579 ,  0.61567308, ..., -0.26812127,\n",
              "        -0.28484491, -1.82148745],\n",
              "       [-0.05559103, -1.02454776, -1.33761915, ...,  3.47246845,\n",
              "         0.56987447, -0.8682729 ],\n",
              "       ...,\n",
              "       [-1.44660128, -0.6988362 , -0.39335552, ..., -0.24895702,\n",
              "         0.32019177, -0.5948087 ],\n",
              "       [-1.5661667 , -0.60799765, -0.36540023, ..., -0.39931645,\n",
              "         0.22045687, -0.28497643],\n",
              "       [ 0.14918126, -0.32600142, -1.68740999, ..., -0.12881785,\n",
              "         0.39522085, -0.94986211]])"
            ]
          },
          "metadata": {
            "tags": []
          },
          "execution_count": 11
        }
      ]
    },
    {
      "cell_type": "code",
      "metadata": {
        "colab": {
          "base_uri": "https://localhost:8080/",
          "height": 204
        },
        "id": "3Oy_8bYyT3Wk",
        "outputId": "b4bd3217-92be-4fa1-d371-337f355b5720"
      },
      "source": [
        "columns = ['pca_%i' % i for i in range(8)]\n",
        "df_test_pca = pd.DataFrame(pca_test_X, columns=columns, index=test_df.index)\n",
        "df_test_pca.head()"
      ],
      "execution_count": 37,
      "outputs": [
        {
          "output_type": "execute_result",
          "data": {
            "text/html": [
              "<div>\n",
              "<style scoped>\n",
              "    .dataframe tbody tr th:only-of-type {\n",
              "        vertical-align: middle;\n",
              "    }\n",
              "\n",
              "    .dataframe tbody tr th {\n",
              "        vertical-align: top;\n",
              "    }\n",
              "\n",
              "    .dataframe thead th {\n",
              "        text-align: right;\n",
              "    }\n",
              "</style>\n",
              "<table border=\"1\" class=\"dataframe\">\n",
              "  <thead>\n",
              "    <tr style=\"text-align: right;\">\n",
              "      <th></th>\n",
              "      <th>pca_0</th>\n",
              "      <th>pca_1</th>\n",
              "      <th>pca_2</th>\n",
              "      <th>pca_3</th>\n",
              "      <th>pca_4</th>\n",
              "      <th>pca_5</th>\n",
              "      <th>pca_6</th>\n",
              "      <th>pca_7</th>\n",
              "    </tr>\n",
              "  </thead>\n",
              "  <tbody>\n",
              "    <tr>\n",
              "      <th>0</th>\n",
              "      <td>-1.173181</td>\n",
              "      <td>0.496203</td>\n",
              "      <td>-2.734719</td>\n",
              "      <td>-0.557060</td>\n",
              "      <td>-0.413873</td>\n",
              "      <td>1.952306</td>\n",
              "      <td>0.119300</td>\n",
              "      <td>0.507407</td>\n",
              "    </tr>\n",
              "    <tr>\n",
              "      <th>1</th>\n",
              "      <td>-0.157794</td>\n",
              "      <td>1.656258</td>\n",
              "      <td>0.615673</td>\n",
              "      <td>0.015185</td>\n",
              "      <td>-1.307097</td>\n",
              "      <td>-0.268121</td>\n",
              "      <td>-0.284845</td>\n",
              "      <td>-1.821487</td>\n",
              "    </tr>\n",
              "    <tr>\n",
              "      <th>2</th>\n",
              "      <td>-0.055591</td>\n",
              "      <td>-1.024548</td>\n",
              "      <td>-1.337619</td>\n",
              "      <td>-2.649020</td>\n",
              "      <td>0.022908</td>\n",
              "      <td>3.472468</td>\n",
              "      <td>0.569874</td>\n",
              "      <td>-0.868273</td>\n",
              "    </tr>\n",
              "    <tr>\n",
              "      <th>3</th>\n",
              "      <td>-1.698683</td>\n",
              "      <td>-0.508595</td>\n",
              "      <td>-0.335465</td>\n",
              "      <td>0.527974</td>\n",
              "      <td>-0.692101</td>\n",
              "      <td>-0.564028</td>\n",
              "      <td>0.111636</td>\n",
              "      <td>0.051075</td>\n",
              "    </tr>\n",
              "    <tr>\n",
              "      <th>4</th>\n",
              "      <td>-0.603061</td>\n",
              "      <td>2.243197</td>\n",
              "      <td>1.021177</td>\n",
              "      <td>0.651868</td>\n",
              "      <td>-0.242855</td>\n",
              "      <td>-0.658978</td>\n",
              "      <td>-0.031618</td>\n",
              "      <td>-0.313996</td>\n",
              "    </tr>\n",
              "  </tbody>\n",
              "</table>\n",
              "</div>"
            ],
            "text/plain": [
              "      pca_0     pca_1     pca_2  ...     pca_5     pca_6     pca_7\n",
              "0 -1.173181  0.496203 -2.734719  ...  1.952306  0.119300  0.507407\n",
              "1 -0.157794  1.656258  0.615673  ... -0.268121 -0.284845 -1.821487\n",
              "2 -0.055591 -1.024548 -1.337619  ...  3.472468  0.569874 -0.868273\n",
              "3 -1.698683 -0.508595 -0.335465  ... -0.564028  0.111636  0.051075\n",
              "4 -0.603061  2.243197  1.021177  ... -0.658978 -0.031618 -0.313996\n",
              "\n",
              "[5 rows x 8 columns]"
            ]
          },
          "metadata": {
            "tags": []
          },
          "execution_count": 37
        }
      ]
    },
    {
      "cell_type": "code",
      "metadata": {
        "id": "cM2vn-JNZFe4"
      },
      "source": [
        "predictions = clf.predict(test_df)"
      ],
      "execution_count": 163,
      "outputs": []
    },
    {
      "cell_type": "code",
      "metadata": {
        "id": "SXxdJEjwZsXp"
      },
      "source": [
        "output = pd.DataFrame({'PassengerId': passenger_id, 'Survived': predictions})\n",
        "output.to_csv('submission.csv', index=False)"
      ],
      "execution_count": 164,
      "outputs": []
    },
    {
      "cell_type": "code",
      "metadata": {
        "colab": {
          "base_uri": "https://localhost:8080/"
        },
        "id": "LEtHUNSoZ4k4",
        "outputId": "3badb704-b80d-4b64-acc0-3c8dbe8c2b91"
      },
      "source": [
        "test_df.info()"
      ],
      "execution_count": 142,
      "outputs": [
        {
          "output_type": "stream",
          "text": [
            "<class 'pandas.core.frame.DataFrame'>\n",
            "RangeIndex: 418 entries, 0 to 417\n",
            "Data columns (total 12 columns):\n",
            " #   Column      Non-Null Count  Dtype  \n",
            "---  ------      --------------  -----  \n",
            " 0   Age         418 non-null    float64\n",
            " 1   SibSp       418 non-null    int64  \n",
            " 2   Parch       418 non-null    int64  \n",
            " 3   Fare        418 non-null    float64\n",
            " 4   female      418 non-null    uint8  \n",
            " 5   male        418 non-null    uint8  \n",
            " 6   Lower       418 non-null    uint8  \n",
            " 7   Middle      418 non-null    uint8  \n",
            " 8   Upper       418 non-null    uint8  \n",
            " 9   Embarked_C  418 non-null    uint8  \n",
            " 10  Embarked_Q  418 non-null    uint8  \n",
            " 11  Embarked_S  418 non-null    uint8  \n",
            "dtypes: float64(2), int64(2), uint8(8)\n",
            "memory usage: 16.5 KB\n"
          ],
          "name": "stdout"
        }
      ]
    },
    {
      "cell_type": "code",
      "metadata": {
        "id": "hsRNuu_-CDRM"
      },
      "source": [
        ""
      ],
      "execution_count": null,
      "outputs": []
    }
  ]
}